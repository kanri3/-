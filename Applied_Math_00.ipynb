{
  "nbformat": 4,
  "nbformat_minor": 0,
  "metadata": {
    "colab": {
      "name": "Applied_Math_00.ipynb",
      "provenance": [],
      "authorship_tag": "ABX9TyMXnfU9TlWUSSg/FpjXbOF1",
      "include_colab_link": true
    },
    "kernelspec": {
      "name": "python3",
      "display_name": "Python 3"
    },
    "language_info": {
      "name": "python"
    }
  },
  "cells": [
    {
      "cell_type": "markdown",
      "metadata": {
        "id": "view-in-github",
        "colab_type": "text"
      },
      "source": [
        "<a href=\"https://colab.research.google.com/github/kanri3/applied_math/blob/main/Applied_Math_00.ipynb\" target=\"_parent\"><img src=\"https://colab.research.google.com/assets/colab-badge.svg\" alt=\"Open In Colab\"/></a>"
      ]
    },
    {
      "cell_type": "markdown",
      "metadata": {
        "id": "GpEhoGtA6Nzw"
      },
      "source": [
        "# 応用数学レポート\n",
        "####第1章：線形代数\n",
        "1. 固有値・固有ベクトルの求め方を確認する。  \n",
        "\n",
        "1. 固有値分解について理解を深める。  \n",
        "1. \n",
        "1. 特異値・特異ベクトルの概要を知る\n",
        "1. 特異値分解の概要を知る。\n",
        "\n",
        "####第2章：確率・統計\n",
        "1. 条件付き確率とは？  \n",
        "事象X=xを前提に事象Y=yが生じる確率。  \n",
        "ここでX,Yはある「系」（サイコロ，天気etc）を表し、またx,yはその系の下で起きる事象を表す。\n",
        "1. ベイズの定理とは？  \n",
        "たとえば「ワクチン接種済みだと安心顔になる確率」が既知であるなら、ベイズの定理により「安心顔の人がワクチン接種済みである確率」を求められる。  \n",
        "（但し、「ワクチン接種済みである確率」および「安心顔である確率」が既知であること）\n",
        "1. 期待値とは？  \n",
        "いわゆる平均値。  \n",
        "確率変数と確率の積を全ての事象について合計したもの。\n",
        "1. 分散とは？  \n",
        "分散とは、データの散らばり具合を表す値である。  \n",
        "データの正負が原因で生じる相殺を回避する処理（二乗）の後、平均をとったもの。  \n",
        "1. 様々な確率分布の概要を知る。\n",
        "\n",
        "####第3章：情報理論\n",
        "1. 自己情報量とは？  \n",
        "事象が発生する前後で不確かさ（エントロピー）が減少する場合、その差を自己情報量という。\n",
        "1. 平均情報量（シャノンエントロピー）とは？  \n",
        "自己情報量の期待値である。\n",
        "1. KLダイバージェンスとは？  \n",
        "２つの確率分布がどの程度似ているかを表す尺度。\n",
        "1. 交差エントロピー誤差とは？  \n",
        "機械学習で推定した確率分布が、真の確率分布に近い程小さくなる値。\n",
        "\n"
      ]
    },
    {
      "cell_type": "markdown",
      "metadata": {
        "id": "WaLYu0f650X1"
      },
      "source": [
        ""
      ]
    },
    {
      "cell_type": "code",
      "metadata": {
        "id": "dL2Y-377vTjE"
      },
      "source": [
        ""
      ],
      "execution_count": null,
      "outputs": []
    }
  ]
}